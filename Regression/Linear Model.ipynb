{
 "cells": [
  {
   "cell_type": "code",
   "execution_count": 31,
   "metadata": {},
   "outputs": [],
   "source": [
    "import sklearn\n",
    "import numpy as np\n",
    "import pandas as pd\n",
    "import matplotlib.pyplot as plt\n",
    "import scipy"
   ]
  },
  {
   "cell_type": "code",
   "execution_count": 32,
   "metadata": {},
   "outputs": [],
   "source": [
    "from sklearn.datasets import load_breast_cancer # sample datasets breast cancer\n",
    "cancer = load_breast_cancer() # datasets"
   ]
  },
  {
   "cell_type": "markdown",
   "metadata": {},
   "source": [
    "## Regression\n",
    "### Linear regression (Ordinary least square)\n",
    "y = w[0]*x[0] + ... + w[p]*x[p] +b\n",
    "\n",
    "Minimize the measn squared error between predicted and training set's target y.\n"
   ]
  },
  {
   "cell_type": "code",
   "execution_count": 33,
   "metadata": {},
   "outputs": [],
   "source": [
    "from sklearn.linear_model import LinearRegression # import linear regression model\n",
    "from sklearn.model_selection import train_test_split # auto split train and test sets\n",
    "# split the train and test sets\n",
    "X_train, X_test, y_train, y_test = train_test_split(\n",
    "    cancer.data, cancer.target, stratify=cancer.target, random_state=66)\n",
    "\n",
    "# training the model\n",
    "lr = LinearRegression().fit(X_train, y_train)"
   ]
  },
  {
   "cell_type": "code",
   "execution_count": 34,
   "metadata": {},
   "outputs": [
    {
     "name": "stdout",
     "output_type": "stream",
     "text": [
      "lr.coef_: [ 6.61979655e-02  2.90231325e-04  1.22104348e-02 -8.47821631e-04\n",
      "  4.82193696e-01  2.50515225e+00 -1.71646173e+00 -1.59150719e+00\n",
      " -2.08456831e-01  3.65691611e+00 -6.69572719e-01  2.50682659e-02\n",
      "  1.14387141e-01 -5.51974915e-04 -2.73284156e+01  5.60746746e-01\n",
      "  2.44352766e+00 -6.69241274e+00 -5.28167829e+00  1.95909109e+01\n",
      " -1.81211342e-01 -1.00146516e-02 -1.03668337e-02  1.40243516e-03\n",
      "  4.93497684e-01 -3.51900757e-02 -1.83039588e-01 -9.65513149e-01\n",
      " -3.00770047e-02 -6.65033208e+00]\n",
      "lr.intercept_: 2.7578756720506785\n"
     ]
    }
   ],
   "source": [
    "print(\"lr.coef_:\", lr.coef_)\n",
    "print(\"lr.intercept_:\", lr.intercept_)"
   ]
  },
  {
   "cell_type": "code",
   "execution_count": 35,
   "metadata": {},
   "outputs": [
    {
     "name": "stdout",
     "output_type": "stream",
     "text": [
      "train accuracy: 0.7897674842505374\n",
      "test accuracy: 0.6737519498011358\n"
     ]
    }
   ],
   "source": [
    "# scoring\n",
    "print(\"train accuracy:\", lr.score(X_train,y_train))\n",
    "print(\"test accuracy:\", lr.score(X_test,y_test))"
   ]
  },
  {
   "cell_type": "markdown",
   "metadata": {},
   "source": [
    "### Ridge regression\n",
    "L2 regularization (make coefficient as close as 0) cannot be 0"
   ]
  },
  {
   "cell_type": "code",
   "execution_count": 36,
   "metadata": {},
   "outputs": [
    {
     "data": {
      "text/plain": [
       "0.6971096508195535"
      ]
     },
     "execution_count": 36,
     "metadata": {},
     "output_type": "execute_result"
    }
   ],
   "source": [
    "from sklearn.linear_model import Ridge\n",
    "ridge = Ridge().fit(X_train, y_train)\n",
    "ridge.score(X_train,y_train)\n",
    "ridge.score(X_test,y_test)\n"
   ]
  },
  {
   "cell_type": "code",
   "execution_count": 37,
   "metadata": {},
   "outputs": [
    {
     "name": "stdout",
     "output_type": "stream",
     "text": [
      "train accuracy: 0.732879676187794\n",
      "test accuracy: 0.6849619717912574\n"
     ]
    }
   ],
   "source": [
    "# to generalize, increase alpha, change alpha. \n",
    "ridge = Ridge(alpha=10).fit(X_train, y_train)\n",
    "print(\"train accuracy:\", ridge.score(X_train,y_train))\n",
    "print(\"test accuracy:\", ridge.score(X_test,y_test))"
   ]
  },
  {
   "cell_type": "markdown",
   "metadata": {},
   "source": [
    "### Lasso regression\n",
    "L1 regularization (make coefficient as close as 0) can be 0\n",
    "\n",
    "Sometimes remove feature automatically because of the 0 value of coefficient."
   ]
  },
  {
   "cell_type": "code",
   "execution_count": 38,
   "metadata": {},
   "outputs": [
    {
     "name": "stderr",
     "output_type": "stream",
     "text": [
      "/Users/joonholee/opt/anaconda3/lib/python3.8/site-packages/sklearn/linear_model/_coordinate_descent.py:529: ConvergenceWarning: Objective did not converge. You might want to increase the number of iterations. Duality gap: 21.014914517833557, tolerance: 0.00996549295774648\n",
      "  model = cd_fast.enet_coordinate_descent(\n"
     ]
    },
    {
     "data": {
      "text/plain": [
       "0.6011154955202065"
      ]
     },
     "execution_count": 38,
     "metadata": {},
     "output_type": "execute_result"
    }
   ],
   "source": [
    "from sklearn.linear_model import Lasso\n",
    "lasso = Lasso(alpha=0.01, max_iter=1).fit(X_train, y_train)\n",
    "print(\"train accuracy:\", lasso.score(X_train, y_train))\n",
    "print(\"test accuracy:\", lasso.score(X_test, y_test))"
   ]
  },
  {
   "cell_type": "markdown",
   "metadata": {},
   "source": [
    "## Classification\n",
    "### Binary classification\n",
    "y = w[0]*x[0] + ... + w[p]*x[p] +b > 0\n",
    "\n",
    "y = w[0]*x[0] + ... + w[p]*x[p] +b < 0"
   ]
  },
  {
   "cell_type": "code",
   "execution_count": 30,
   "metadata": {},
   "outputs": [
    {
     "name": "stdout",
     "output_type": "stream",
     "text": [
      "train accuracy:{:.3f} 0.9624413145539906\n",
      "test accuracy:{:.3f} 0.9300699300699301\n",
      "train accuracy:{:.3f} 0.9671361502347418\n",
      "test accuracy:{:.3f} 0.9370629370629371\n"
     ]
    },
    {
     "name": "stderr",
     "output_type": "stream",
     "text": [
      "/Users/joonholee/opt/anaconda3/lib/python3.8/site-packages/sklearn/linear_model/_logistic.py:762: ConvergenceWarning: lbfgs failed to converge (status=1):\n",
      "STOP: TOTAL NO. of ITERATIONS REACHED LIMIT.\n",
      "\n",
      "Increase the number of iterations (max_iter) or scale the data as shown in:\n",
      "    https://scikit-learn.org/stable/modules/preprocessing.html\n",
      "Please also refer to the documentation for alternative solver options:\n",
      "    https://scikit-learn.org/stable/modules/linear_model.html#logistic-regression\n",
      "  n_iter_i = _check_optimize_result(\n",
      "/Users/joonholee/opt/anaconda3/lib/python3.8/site-packages/sklearn/linear_model/_logistic.py:762: ConvergenceWarning: lbfgs failed to converge (status=1):\n",
      "STOP: TOTAL NO. of ITERATIONS REACHED LIMIT.\n",
      "\n",
      "Increase the number of iterations (max_iter) or scale the data as shown in:\n",
      "    https://scikit-learn.org/stable/modules/preprocessing.html\n",
      "Please also refer to the documentation for alternative solver options:\n",
      "    https://scikit-learn.org/stable/modules/linear_model.html#logistic-regression\n",
      "  n_iter_i = _check_optimize_result(\n"
     ]
    }
   ],
   "source": [
    "from sklearn.linear_model import LogisticRegression # logistic regression model\n",
    "#from sklearn.SVM import LinearSVC #support vector machine model\n",
    "\n",
    "# c로 규제 조절 가능 얼마나 분류 할 것인지\n",
    "# 고차원에서 좋음 선형 모델은\n",
    "# split the train and test sets\n",
    "X_train, X_test, y_train, y_test = train_test_split(\n",
    "    cancer.data, cancer.target, stratify=cancer.target, random_state=66)\n",
    "\n",
    "logreg = LogisticRegression().fit(X_train, y_train)\n",
    "print(\"train accuracy:{:.3f}\", logreg.score(X_train,y_train))\n",
    "print(\"test accuracy:{:.3f}\" , logreg.score(X_test,y_test))\n",
    "\n",
    "\n",
    "logreg10 = LogisticRegression(C=10).fit(X_train, y_train)\n",
    "print(\"train accuracy:{:.3f}\", logreg10.score(X_train,y_train))\n",
    "print(\"test accuracy:{:.3f}\" , logreg10.score(X_test,y_test))\n"
   ]
  },
  {
   "cell_type": "markdown",
   "metadata": {},
   "source": [
    "### Multivariate linear model"
   ]
  },
  {
   "cell_type": "markdown",
   "metadata": {},
   "source": [
    "### Decision Tree\n"
   ]
  },
  {
   "cell_type": "markdown",
   "metadata": {},
   "source": [
    "\n",
    "tree 계열 알고리즘 선형이 아님 옮겨야함\n",
    "\n",
    "비선형도 아님... ㅎ\n",
    "#### overfitting prevent \n",
    "- pre or post-pruning"
   ]
  },
  {
   "cell_type": "code",
   "execution_count": 46,
   "metadata": {},
   "outputs": [
    {
     "name": "stdout",
     "output_type": "stream",
     "text": [
      "train accuracy: {:.3f} 1.0\n",
      "test accuracy: {:.3f} 0.8951048951048951\n"
     ]
    }
   ],
   "source": [
    "from sklearn.tree import DecisionTreeClassifier\n",
    "tree = DecisionTreeClassifier(random_state=0)\n",
    "tree.fit(X_train, y_train)\n",
    "print(\"train accuracy: {:.3f}\", tree.score(X_train,y_train))\n",
    "print(\"test accuracy: {:.3f}\" , tree.score(X_test,y_test))\n"
   ]
  },
  {
   "cell_type": "code",
   "execution_count": 48,
   "metadata": {},
   "outputs": [
    {
     "name": "stdout",
     "output_type": "stream",
     "text": [
      "train accuracy: {:.3f} 0.9882629107981221\n",
      "test accuracy: {:.3f} 0.9020979020979021\n"
     ]
    }
   ],
   "source": [
    "# pruning\n",
    "tree4 = DecisionTreeClassifier(max_depth=4,random_state=0)\n",
    "tree4.fit(X_train, y_train)\n",
    "print(\"train accuracy: {:.3f}\", tree4.score(X_train,y_train))\n",
    "print(\"test accuracy: {:.3f}\" , tree4.score(X_test,y_test))"
   ]
  },
  {
   "cell_type": "code",
   "execution_count": null,
   "metadata": {},
   "outputs": [],
   "source": []
  },
  {
   "cell_type": "code",
   "execution_count": null,
   "metadata": {},
   "outputs": [],
   "source": []
  }
 ],
 "metadata": {
  "kernelspec": {
   "display_name": "Python 3",
   "language": "python",
   "name": "python3"
  },
  "language_info": {
   "codemirror_mode": {
    "name": "ipython",
    "version": 3
   },
   "file_extension": ".py",
   "mimetype": "text/x-python",
   "name": "python",
   "nbconvert_exporter": "python",
   "pygments_lexer": "ipython3",
   "version": "3.8.3"
  },
  "widgets": {
   "application/vnd.jupyter.widget-state+json": {
    "state": {},
    "version_major": 2,
    "version_minor": 0
   }
  }
 },
 "nbformat": 4,
 "nbformat_minor": 4
}
