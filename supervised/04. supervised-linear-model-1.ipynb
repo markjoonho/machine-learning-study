{
 "cells": [
  {
   "cell_type": "markdown",
   "metadata": {},
   "source": [
    "# Linear Model for Regression\n",
    "#### Generalized Predict Function\n",
    "- $\\hat{y} = w[0] \\times x[0] + w[1] \\times x[1] + ... + w[p] \\times x[p] + b$\n",
    "- $\\hat{y}$ is predict value from model\n",
    "- $x[0]$ to $x[p]$ is features (p+1 features exist)\n",
    "- $w[0]$ to $w[p]$ and $b$ is the parameter that the model study"
   ]
  },
  {
   "cell_type": "code",
   "execution_count": 1,
   "metadata": {},
   "outputs": [],
   "source": [
    "from IPython.display import display\n",
    "import numpy as np\n",
    "import matplotlib.pyplot as plt\n",
    "import pandas as pd\n",
    "import mglearn\n",
    "import warnings\n",
    "warnings.filterwarnings(\"ignore\")\n",
    "from sklearn.model_selection import train_test_split\n"
   ]
  },
  {
   "cell_type": "markdown",
   "metadata": {},
   "source": [
    "# Regression sample\n",
    "- If there is only one feature, we describe it using a line.\n",
    "- If there are two features, we describe it using a plane.\n",
    "- If there are more than two features, the line become a hyperplane.\n",
    "- More features -> better Linear Model"
   ]
  },
  {
   "cell_type": "code",
   "execution_count": 2,
   "metadata": {},
   "outputs": [
    {
     "name": "stdout",
     "output_type": "stream",
     "text": [
      "w[0]: 0.393906  b: -0.031804\n"
     ]
    },
    {
     "data": {
      "image/png": "[encoded data removed]",
      "text/plain": [
       "<Figure size 576x576 with 1 Axes>"
      ]
     },
     "metadata": {
      "needs_background": "light"
     },
     "output_type": "display_data"
    }
   ],
   "source": [
    "mglearn.plots.plot_linear_regression_wave()"
   ]
  },
  {
   "cell_type": "markdown",
   "metadata": {},
   "source": [
    "# 1. Linear Regression\n",
    "- Try to find the minimum value of Mean Squared Error between predict and training set's y val.\n",
    "- $LOSS = MSE = {1 \\over n}\\sum_{i=1}^{n}(y_i - \\hat y)^2$\n",
    "- Use Gradient-descent algorithm to minimize MSE.\n",
    "\n",
    "#### Example 1: Wave datasets"
   ]
  },
  {
   "cell_type": "code",
   "execution_count": 3,
   "metadata": {},
   "outputs": [
    {
     "data": {
      "text/plain": [
       "LinearRegression()"
      ]
     },
     "execution_count": 3,
     "metadata": {},
     "output_type": "execute_result"
    }
   ],
   "source": [
    "from sklearn.linear_model import LinearRegression\n",
    "X, y = mglearn.datasets.make_wave(n_samples=60)\n",
    "X_train, X_test, y_train, y_test = train_test_split(X, y, random_state=42)\n",
    "lr = LinearRegression()\n",
    "lr.fit(X_train, y_train)"
   ]
  },
  {
   "cell_type": "code",
   "execution_count": 4,
   "metadata": {},
   "outputs": [
    {
     "name": "stdout",
     "output_type": "stream",
     "text": [
      "lr.coef_: [0.39390555]\n",
      "lr.intercept_: -0.031804343026759746\n"
     ]
    }
   ],
   "source": [
    "print(\"lr.coef_:\", lr.coef_) # parameter w which means slope if there is one feature.\n",
    "                             # If there are more feature, there wil be more coefficient.\n",
    "print(\"lr.intercept_:\", lr.intercept_) # parameter b which is the intercept. \n",
    "                                       # intercept is only one float value."
   ]
  },
  {
   "cell_type": "code",
   "execution_count": 5,
   "metadata": {},
   "outputs": [
    {
     "name": "stdout",
     "output_type": "stream",
     "text": [
      "training set score: 0.67\n",
      "test set score: 0.66\n"
     ]
    }
   ],
   "source": [
    "print(\"training set score: {:.2f}\".format(lr.score(X_train, y_train)))\n",
    "print(\"test set score: {:.2f}\".format(lr.score(X_test, y_test)))\n",
    "# Score is not good for both training and test set -> Underfitting\n",
    "# We need more features.(this dataset only have one feature...)"
   ]
  },
  {
   "cell_type": "markdown",
   "metadata": {},
   "source": [
    "#### Example 2: Extended Boson datasets "
   ]
  },
  {
   "cell_type": "code",
   "execution_count": 6,
   "metadata": {},
   "outputs": [
    {
     "data": {
      "text/plain": [
       "LinearRegression()"
      ]
     },
     "execution_count": 6,
     "metadata": {},
     "output_type": "execute_result"
    }
   ],
   "source": [
    "X, y = mglearn.datasets.load_extended_boston()\n",
    "X_train, X_test, y_train, y_test = train_test_split(X, y, random_state=0)\n",
    "lr = LinearRegression()\n",
    "lr.fit(X_train, y_train)"
   ]
  },
  {
   "cell_type": "code",
   "execution_count": 7,
   "metadata": {},
   "outputs": [
    {
     "name": "stdout",
     "output_type": "stream",
     "text": [
      "training set score: 0.95\n",
      "test set score: 0.61\n"
     ]
    }
   ],
   "source": [
    "print(\"training set score: {:.2f}\".format(lr.score(X_train, y_train)))\n",
    "print(\"test set score: {:.2f}\".format(lr.score(X_test, y_test)))\n",
    "# Score is not good for test set but good score for training set -> Overfitting to training set.\n",
    "# We need to make our model less complex.(this dataset has too many features...)"
   ]
  },
  {
   "cell_type": "markdown",
   "metadata": {},
   "source": [
    "# 2. Ridge Regression\n",
    "- Add penalty to make all $w[i]$ is close to 0. L2 Regularization.\n",
    "- Try to find the minimum value of Mean Squared Error between predict and training set's y val.\n",
    "- $LOSS = MSE + penalty = {1 \\over n}\\sum_{i=1}^{n}(y_i - \\hat y)^2 + \\alpha \\sum_{i=1}^{n}w_i^2$\n",
    "- Control the model using $\\alpha$.\n",
    "- When $\\alpha$ is close to 0, similar model as linear regression.\n",
    "- When $\\alpha$ is bigger, most of $w[i]$ is close to 0.\n",
    "\n",
    "#### Example 1: Extended Boston datasets ($\\alpha$ = 1(default))"
   ]
  },
  {
   "cell_type": "code",
   "execution_count": 8,
   "metadata": {},
   "outputs": [
    {
     "data": {
      "text/plain": [
       "Ridge()"
      ]
     },
     "execution_count": 8,
     "metadata": {},
     "output_type": "execute_result"
    }
   ],
   "source": [
    "from sklearn.linear_model import Ridge\n",
    "X, y = mglearn.datasets.load_extended_boston()\n",
    "X_train, X_test, y_train, y_test = train_test_split(X, y, random_state=0)\n",
    "ridge = Ridge()\n",
    "ridge.fit(X_train, y_train)"
   ]
  },
  {
   "cell_type": "code",
   "execution_count": 9,
   "metadata": {},
   "outputs": [
    {
     "name": "stdout",
     "output_type": "stream",
     "text": [
      "training set score: 0.89\n",
      "test set score: 0.75\n"
     ]
    }
   ],
   "source": [
    "print(\"training set score: {:.2f}\".format(ridge.score(X_train, y_train)))\n",
    "print(\"test set score: {:.2f}\".format(ridge.score(X_test, y_test)))\n",
    "# Better test set score than linear regression -> better model\n"
   ]
  },
  {
   "cell_type": "markdown",
   "metadata": {},
   "source": [
    "#### Example 2: Extended Boston datasets ($\\alpha$ = 10)"
   ]
  },
  {
   "cell_type": "code",
   "execution_count": 10,
   "metadata": {},
   "outputs": [
    {
     "name": "stdout",
     "output_type": "stream",
     "text": [
      "training set score: 0.79\n",
      "test set score: 0.64\n"
     ]
    }
   ],
   "source": [
    "ridge10 = Ridge(alpha=10)\n",
    "ridge10.fit(X_train, y_train)\n",
    "print(\"training set score: {:.2f}\".format(ridge10.score(X_train, y_train)))\n",
    "print(\"test set score: {:.2f}\".format(ridge10.score(X_test, y_test)))\n",
    "# More generalize, but less fitting."
   ]
  },
  {
   "cell_type": "markdown",
   "metadata": {},
   "source": [
    "#### Example 3: Extended Boston datasets ($\\alpha$ = 0.1)"
   ]
  },
  {
   "cell_type": "code",
   "execution_count": 11,
   "metadata": {},
   "outputs": [
    {
     "name": "stdout",
     "output_type": "stream",
     "text": [
      "training set score: 0.93\n",
      "test set score: 0.77\n"
     ]
    }
   ],
   "source": [
    "ridge01 = Ridge(alpha=0.1)\n",
    "ridge01.fit(X_train, y_train)\n",
    "print(\"training set score: {:.2f}\".format(ridge01.score(X_train, y_train)))\n",
    "print(\"test set score: {:.2f}\".format(ridge01.score(X_test, y_test)))"
   ]
  },
  {
   "cell_type": "markdown",
   "metadata": {},
   "source": [
    "#### Analyze How alpha Work\n",
    "- Linear Regession biggest size of coef > alph=0.1 > alpha=1 > alpha=10"
   ]
  },
  {
   "cell_type": "code",
   "execution_count": 12,
   "metadata": {},
   "outputs": [
    {
     "data": {
      "text/plain": [
       "<matplotlib.legend.Legend at 0x7fdfaec6e8b0>"
      ]
     },
     "execution_count": 12,
     "metadata": {},
     "output_type": "execute_result"
    },
    {
     "data": {
      "image/png": "[encoded data removed]",
      "text/plain": [
       "<Figure size 432x288 with 1 Axes>"
      ]
     },
     "metadata": {
      "needs_background": "light"
     },
     "output_type": "display_data"
    }
   ],
   "source": [
    "plt.plot(ridge10.coef_, \"x\", label=\"Ridge alpha 10\",color=\"orange\")\n",
    "plt.plot(ridge.coef_, \"^\", label=\"Ridge alpha 1\", color=\"pink\")\n",
    "plt.plot(ridge01.coef_, \"v\", label=\"Ridge alpha 0.1\", color=\"black\")\n",
    "plt.xlabel(\"list of coef\")\n",
    "plt.ylabel(\"size of coef\")\n",
    "xlims = plt.xlim()\n",
    "plt.hlines(0,xlims[0],xlims[1])\n",
    "plt.xlim(xlims)\n",
    "plt.ylim(-25,25)\n",
    "plt.plot(lr.coef_, \"o\", label=\"Linear Regression\", color=\"red\")\n",
    "plt.legend()"
   ]
  },
  {
   "cell_type": "markdown",
   "metadata": {},
   "source": [
    "#### Analyze How Sample Size Work (Learning Curve)\n",
    "- When there is small training set, Ride has better test score.\n",
    "- When there is bigger training set, Linear Regression almost catch up."
   ]
  },
  {
   "cell_type": "code",
   "execution_count": 13,
   "metadata": {},
   "outputs": [
    {
     "data": {
      "image/png": "[encoded data removed]",
      "text/plain": [
       "<Figure size 432x288 with 1 Axes>"
      ]
     },
     "metadata": {
      "needs_background": "light"
     },
     "output_type": "display_data"
    }
   ],
   "source": [
    "mglearn.plots.plot_ridge_n_samples()"
   ]
  },
  {
   "cell_type": "markdown",
   "metadata": {},
   "source": [
    "# 3. Lasso Regression\n",
    "- Add penalty to make some $w[i]$ is 0. L1 Regularization\n",
    "- Automatically select feature.\n",
    "- Try to find the minimum value of Mean Squared Error between predict and training set's y val.\n",
    "- $LOSS = MSE + penalty = {1 \\over n}\\sum_{i=1}^{n}(y_i - \\hat y)^2 + \\alpha \\sum_{i=1}^{n}|w_i|$\n",
    "- Control the model using $\\alpha$.\n",
    "- When $\\alpha$ is close to 0, similar model as linear regression.\n",
    "- When $\\alpha$ is bigger, most of $w[i]$ is 0.\n",
    "\n",
    "#### Example 1: Extended Boston datasets (alpha = 1(default))"
   ]
  },
  {
   "cell_type": "code",
   "execution_count": 14,
   "metadata": {},
   "outputs": [
    {
     "name": "stdout",
     "output_type": "stream",
     "text": [
      "training set score: 0.29\n",
      "test set score: 0.21\n",
      "used feature: 4\n"
     ]
    }
   ],
   "source": [
    "from sklearn.linear_model import Lasso\n",
    "lasso = Lasso().fit(X_train, y_train)\n",
    "print(\"training set score: {:.2f}\".format(lasso.score(X_train, y_train)))\n",
    "print(\"test set score: {:.2f}\".format(lasso.score(X_test, y_test)))\n",
    "print(\"used feature:\", np.sum(lasso.coef_!=0))\n",
    "# We had 104 features but lasso only use 4 features. -> underfitting\n",
    "# low score model. Let's change alpha!"
   ]
  },
  {
   "cell_type": "markdown",
   "metadata": {},
   "source": [
    "#### Example 2: Extended Boston datasets (alpha = 0.01)"
   ]
  },
  {
   "cell_type": "code",
   "execution_count": 15,
   "metadata": {},
   "outputs": [
    {
     "name": "stdout",
     "output_type": "stream",
     "text": [
      "training set score: 0.90\n",
      "test set score: 0.77\n",
      "used feature: 33\n"
     ]
    }
   ],
   "source": [
    "lasso001 = Lasso(alpha=0.01, max_iter=100000).fit(X_train, y_train)\n",
    "print(\"training set score: {:.2f}\".format(lasso001.score(X_train, y_train)))\n",
    "print(\"test set score: {:.2f}\".format(lasso001.score(X_test, y_test)))\n",
    "print(\"used feature:\", np.sum(lasso001.coef_!=0))\n",
    "# better than example 1 -> it looks ok"
   ]
  },
  {
   "cell_type": "markdown",
   "metadata": {},
   "source": [
    "#### Example 3: Extended Boston datasets (alpha = 0.0001)"
   ]
  },
  {
   "cell_type": "code",
   "execution_count": 16,
   "metadata": {},
   "outputs": [
    {
     "name": "stdout",
     "output_type": "stream",
     "text": [
      "training set score: 0.95\n",
      "test set score: 0.64\n",
      "used feature: 96\n"
     ]
    }
   ],
   "source": [
    "lasso00001 = Lasso(alpha=0.0001, max_iter=100000).fit(X_train, y_train)\n",
    "print(\"training set score: {:.2f}\".format(lasso00001.score(X_train, y_train)))\n",
    "print(\"test set score: {:.2f}\".format(lasso00001.score(X_test, y_test)))\n",
    "print(\"used feature:\", np.sum(lasso00001.coef_!=0))\n",
    "# Too many features!! -> Overfitting"
   ]
  },
  {
   "cell_type": "markdown",
   "metadata": {},
   "source": [
    "#### Analyze How alpha Work\n",
    "- Lasso: \n",
    "    - when alpha = 1, most of coef is 0.\n",
    "    - when alpha = 0.0001, most of coef is far away from 0."
   ]
  },
  {
   "cell_type": "code",
   "execution_count": 17,
   "metadata": {},
   "outputs": [
    {
     "data": {
      "text/plain": [
       "Text(0, 0.5, 'size of coef')"
      ]
     },
     "execution_count": 17,
     "metadata": {},
     "output_type": "execute_result"
    },
    {
     "data": {
      "image/png": "[encoded data removed]",
      "text/plain": [
       "<Figure size 432x288 with 1 Axes>"
      ]
     },
     "metadata": {
      "needs_background": "light"
     },
     "output_type": "display_data"
    }
   ],
   "source": [
    "plt.plot(lasso.coef_, 's', label=\"Lasso alpha=1\")\n",
    "plt.plot(lasso001.coef_, 's', label=\"Lasso alpha=0.01\")\n",
    "plt.plot(lasso00001.coef_, 's', label=\"Lasso alpha=0.0001\")\n",
    "\n",
    "plt.plot(ridge01.coef_, 'o', label=\"Ridge alpha=0.1\")\n",
    "plt.legend(ncol=2, loc=(0, 1.05))\n",
    "plt.ylim(-25, 25)\n",
    "plt.xlabel(\"list of coef\")\n",
    "plt.ylabel(\"size of coef\")"
   ]
  },
  {
   "cell_type": "markdown",
   "metadata": {},
   "source": [
    "# More to Do\n",
    "- In scikit-learn there exist ElasticNet.\n",
    "- ElasticNet = combination of Ridge and Lasso."
   ]
  }
 ],
 "metadata": {
  "kernelspec": {
   "display_name": "Python 3",
   "language": "python",
   "name": "python3"
  },
  "language_info": {
   "codemirror_mode": {
    "name": "ipython",
    "version": 3
   },
   "file_extension": ".py",
   "mimetype": "text/x-python",
   "name": "python",
   "nbconvert_exporter": "python",
   "pygments_lexer": "ipython3",
   "version": "3.8.3"
  }
 },
 "nbformat": 4,
 "nbformat_minor": 4
}
